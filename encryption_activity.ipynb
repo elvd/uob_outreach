{
  "cells": [
    {
      "cell_type": "markdown",
      "id": "280dbc85-f51c-4264-9906-83f1817e7f48",
      "metadata": {},
      "source": [
        "# Simple Encryption and Decryption of Text\n",
        "\n",
        "## Caesar cipher\n",
        "\n",
        "One of the first known text encryption methods is the [Caesar cipher](https://en.wikipedia.org/wiki/Caesar_cipher). It is a very simple way of replacing each letter of a particular piece of text by a different one, which is why it is called a *substitution cipher*.\n",
        "\n",
        "This change happens by *shifting* each letter either left or right by a fixed number, 3 being the original one. For example, the letter **A**, the first letter of the alphabet, is replaced by the letter **D**, the fourth letter of the alphabet.\n",
        "\n",
        "That number of spaces is called the *key*, the original text is called the *plaintext*, and the resultant encrypted text is called the *ciphertext*.\n",
        "\n",
        "To decrypt the text we need to know the key and we reverse the shift.\n",
        "\n",
        "Here is a piece of Python code that implements this cipher, which has been adapted from [this webpage](https://inventwithpython.com/bigbookpython/project6.html):"
      ]
    },
    {
      "cell_type": "code",
      "execution_count": null,
      "id": "cef772fe-4d70-41c0-94ce-6eb6b1fcc7fc",
      "metadata": {
        "trusted": true
      },
      "outputs": [],
      "source": [
        "# This is our alphabet - the principle of the Caesar cipher works with an alpha-\n",
        "# bet of any size, however we are using the standard latin one for brevity\n",
        "LETTERS = \"ABCDEFGHIJKLMNOPQRSTUVWXYZ\"\n",
        "\n",
        "# This is the value of our key, or how many letters we shift by\n",
        "key = 3\n",
        "\n",
        "# This is the message we want to encrypt - do you know what it's famous for?\n",
        "plaintext = \"THE QUICK BROWN FOX JUMPED OVER THE LAZY DOG\"\n",
        "\n",
        "# We need this line if we change the content of the `plaintext` variable\n",
        "plaintext = plaintext.upper()"
      ]
    },
    {
      "cell_type": "code",
      "execution_count": null,
      "id": "c6730566-f64c-44f3-82be-9207ea6c5c54",
      "metadata": {
        "trusted": true
      },
      "outputs": [
        {
          "name": "stdout",
          "output_type": "stream",
          "text": [
            "WKH TXLFN EURZQ IRA MXPSHG RYHU WKH ODCB GRJ\n"
          ]
        }
      ],
      "source": [
        "ciphertext = ''\n",
        "\n",
        "# Encrypt/decrypt each letter in the message:\n",
        "for letter in plaintext:\n",
        "    if letter in LETTERS:\n",
        "        # Get the encrypted (or decrypted) location for this letter.\n",
        "        position = LETTERS.find(letter)\n",
        "\n",
        "        # Shift the position using the key\n",
        "        position = (position + key) % len(LETTERS)\n",
        "\n",
        "        # Add the letter corresponding to the shifted position\n",
        "        ciphertext = ciphertext + LETTERS[position]\n",
        "    else:\n",
        "        # Do not do anything if it is not a letter\n",
        "        ciphertext = ciphertext + letter\n",
        "\n",
        "# Display the encrypted/decrypted string to the screen:\n",
        "print(ciphertext)"
      ]
    },
    {
      "cell_type": "markdown",
      "id": "2947a7c6-f62b-4120-94e7-e3db7d8a98f5",
      "metadata": {},
      "source": [
        "To decrypt this we simply need to reverse the operation in this line of code:\n",
        "\n",
        "    position = (position + key) % 26\n",
        "to\n",
        "\n",
        "    position = (position - key) % 26\n"
      ]
    },
    {
      "cell_type": "code",
      "execution_count": null,
      "id": "ef34ee77-a21e-4ff7-a598-d44e761dad82",
      "metadata": {
        "trusted": true
      },
      "outputs": [
        {
          "name": "stdout",
          "output_type": "stream",
          "text": [
            "THE QUICK BROWN FOX JUMPED OVER THE LAZY DOG\n"
          ]
        }
      ],
      "source": [
        "plaintext = ''\n",
        "\n",
        "for letter in ciphertext:\n",
        "    if letter in LETTERS:\n",
        "\n",
        "        position = LETTERS.find(letter)\n",
        "        position = (position - key) % len(LETTERS)\n",
        "\n",
        "        plaintext = plaintext + LETTERS[position]\n",
        "    else:\n",
        "\n",
        "        plaintext = plaintext + letter\n",
        "\n",
        "# Display the encrypted/decrypted string to the screen:\n",
        "print(plaintext)"
      ]
    },
    {
      "attachments": {},
      "cell_type": "markdown",
      "id": "99e3d0c3-171f-4b81-9ebb-0ec8fceade5b",
      "metadata": {},
      "source": [
        "### Cryptanalysis\n",
        "\n",
        "While the Caesar cipher is easy to understand and implement, it is also easy to break. For example, there is a finite number of possible keys, and we can very easily go through all of them (adapted from [this page](https://inventwithpython.com/bigbookpython/project7.html):"
      ]
    },
    {
      "cell_type": "code",
      "execution_count": null,
      "id": "262cc71a-e3e2-4e83-a369-a1d24d435ec5",
      "metadata": {
        "trusted": true
      },
      "outputs": [
        {
          "ename": "",
          "evalue": "",
          "output_type": "error",
          "traceback": [
            "\u001b[1;31mRunning cells with 'Python 3.7.4' requires the ipykernel package.\n",
            "\u001b[1;31m<a href='command:jupyter.createPythonEnvAndSelectController'>Create a Python Environment</a> with the required packages.\n",
            "\u001b[1;31mOr install 'ipykernel' using the command: 'c:/Users/Viktor/.platformio/python37/python.exe -m pip install ipykernel -U --user --force-reinstall'"
          ]
        }
      ],
      "source": [
        "for key in range(len(LETTERS)):\n",
        "    plaintext = ''\n",
        "\n",
        "    for letter in ciphertext:\n",
        "        if letter in LETTERS:\n",
        "\n",
        "            position = LETTERS.find(letter)\n",
        "            position = (position - key) % len(LETTERS)\n",
        "\n",
        "            plaintext = plaintext + LETTERS[position]\n",
        "        else:\n",
        "\n",
        "            plaintext = plaintext + letter\n",
        "\n",
        "    # Display the encrypted/decrypted string to the screen:\n",
        "    print(plaintext)"
      ]
    },
    {
      "cell_type": "markdown",
      "id": "3986373c-b4ea-4780-a516-f5ed58bc67bd",
      "metadata": {},
      "source": [
        "This is called a \"brute-force attack\" and is a common first step in a cybersecurity attack. For example, if we had a list of common passwords, a brute-force attack would consist of us trying all of them one after the other. Similarly, there are only 10,000 possible PIN combinations (0000 -> 9999), so given enough time we can try them all until we luck into the correct one.\n",
        "\n",
        "Another way to attack the Caesar cipher is through [frequency analysis](https://en.wikipedia.org/wiki/Frequency_analysis). There is a detailed description of this attack with corresponding code available [on this page](https://inventwithpython.com/cracking/chapter19.html).\n",
        "![Letter frequencies in English](https://upload.wikimedia.org/wikipedia/commons/d/d5/English_letter_frequency_%28alphabetic%29.svg)"
      ]
    },
    {
      "cell_type": "markdown",
      "id": "88574d8a-22f7-411d-8644-96ea64d6fbc3",
      "metadata": {},
      "source": [
        "## [Substitution cipher](https://en.wikipedia.org/wiki/Substitution_cipher)\n",
        "\n",
        "A more sophisitcated cipher uses a key which is either a word, or a random sequence of letters. We then use that key to substitute each letter of the plaintext in a different way, rather than the predictable, constant shift.\n",
        "\n",
        "This is another example adapted [from this page](https://inventwithpython.com/bigbookpython/project66.html):"
      ]
    },
    {
      "cell_type": "code",
      "execution_count": null,
      "id": "229c84c3-8c88-4fe9-b8e1-48d44f53b7a5",
      "metadata": {
        "trusted": true
      },
      "outputs": [
        {
          "name": "stdout",
          "output_type": "stream",
          "text": [
            "CJQDUHKEWONITASFRBXPZYMLGV\n"
          ]
        }
      ],
      "source": [
        "import random\n",
        "\n",
        "LETTERS = \"ABCDEFGHIJKLMNOPQRSTUVWXYZ\"\n",
        "\n",
        "plaintext = \"THE QUICK BROWN FOX JUMPED OVER THE LAZY DOG\"\n",
        "plaintext = plaintext.upper()\n",
        "\n",
        "# Generate a random key\n",
        "key = list(LETTERS)\n",
        "\n",
        "random.shuffle(key)\n",
        "\n",
        "key = ''.join(key)\n",
        "\n",
        "print(key)"
      ]
    },
    {
      "cell_type": "markdown",
      "id": "81ab170d",
      "metadata": {},
      "source": [
        "And now let's encrypt the message *THE QUICK BROWN FOX JUMPED OVER THE LAZY DOG* using the generated key.\n",
        "\n",
        "The way this code works is that it substitutes each of the letters from the original message, i.e., the *plaintext*, with the letter in the same position in the key.\n",
        "\n",
        "For example, the letter **A** from the message will be substitute with the first letter of the key, the letter **B** will be substitute with the second letter of the key, and so on.\n",
        "\n",
        "If the key was *CJQDUHKEWONITASFRBXPZYMLGV*, then the letter **A** will become **C**, the letter **B** will become **J**, and so on."
      ]
    },
    {
      "cell_type": "code",
      "execution_count": null,
      "id": "94310457-dfc1-4c9c-9e43-4c808032a5c3",
      "metadata": {
        "trusted": true
      },
      "outputs": [],
      "source": [
        "ciphertext = ''\n",
        "\n",
        "for letter in plaintext:\n",
        "    if letter in LETTERS:\n",
        "        position = LETTERS.find(letter)\n",
        "        ciphertext = ciphertext + key[position]\n",
        "    else:\n",
        "        ciphertext = ciphertext + letter\n",
        "\n",
        "print(ciphertext)"
      ]
    },
    {
      "cell_type": "markdown",
      "id": "00501198-2cfa-41db-bf02-cec56ff3400a",
      "metadata": {},
      "source": [
        "Similarly to before, decryption is straightforward if we have the key:"
      ]
    },
    {
      "cell_type": "code",
      "execution_count": 17,
      "id": "df1373ec-629a-4bd7-98f2-302d2e772a7b",
      "metadata": {
        "trusted": true
      },
      "outputs": [
        {
          "name": "stdout",
          "output_type": "stream",
          "text": [
            "THE QUICK BROWN FOX JUMPED OVER THE LAZY DOG\n"
          ]
        }
      ],
      "source": [
        "plaintext = ''\n",
        "\n",
        "for letter in ciphertext:\n",
        "    if letter in LETTERS:\n",
        "        position = key.find(letter)\n",
        "        plaintext = plaintext + LETTERS[position]\n",
        "    else:\n",
        "        plaintext = plaintext + letter\n",
        "\n",
        "print(plaintext)"
      ]
    },
    {
      "cell_type": "markdown",
      "id": "f0da6334-828a-41c3-9923-1767c76d8aa7",
      "metadata": {},
      "source": [
        "## [Vigenere cipher](https://en.wikipedia.org/wiki/Vigen%C3%A8re_cipher)\n",
        "\n",
        "The third and final cipher we will explore is yet another improvement on the Caesar cipher. This one stood unbroken for close to 300 years, before cryptanalysis techniques for it were developed.\n",
        "\n",
        "The code for this example is adapted [from this page](https://inventwithpython.com/bigbookpython/project80.html)"
      ]
    },
    {
      "cell_type": "code",
      "execution_count": 18,
      "id": "b48662f2-7b58-4acb-a872-c1c203f54cb8",
      "metadata": {
        "trusted": true
      },
      "outputs": [],
      "source": [
        "LETTERS = \"ABCDEFGHIJKLMNOPQRSTUVWXYZ\"\n",
        "\n",
        "key = \"CATS\"\n",
        "key = key.upper()\n",
        "\n",
        "plaintext = \"THE QUICK BROWN FOX JUMPED OVER THE LAZY DOG\"\n",
        "plaintext = plaintext.upper()"
      ]
    },
    {
      "cell_type": "code",
      "execution_count": null,
      "id": "7cdd3173-8c0a-4b93-9419-988f3520552c",
      "metadata": {},
      "outputs": [],
      "source": [
        "ciphertext = []\n",
        "\n",
        "key_index = 0\n",
        "\n",
        "for letter in plaintext:\n",
        "    if letter in LETTERS:\n",
        "        position = LETTERS.find(letter)\n",
        "\n",
        "        position = (position + LETTERS.find(key[key_index])) % len(LETTERS)\n",
        "\n",
        "        ciphertext.append(LETTERS[position])\n",
        "\n",
        "        # We move on to using the letter in the key\n",
        "        key_index = (key_index + 1) % len(key)\n",
        "    else:\n",
        "        ciphertext.append(letter)\n",
        "\n",
        "ciphertext = ''.join(ciphertext)\n",
        "print(ciphertext)\n"
      ]
    },
    {
      "cell_type": "markdown",
      "id": "be2dc743-7d74-47c8-a509-7e3fb4af4432",
      "metadata": {},
      "source": [
        "This cipher can be viewed as a collection of Caesar ciphers with periodically changing key. Decryption is again symmetric with a simple reversal of a mathematical operation and the plaintext and ciphertext:"
      ]
    },
    {
      "cell_type": "code",
      "execution_count": null,
      "id": "aa0b407c-7d49-4585-8aa1-863a13234356",
      "metadata": {
        "trusted": true
      },
      "outputs": [
        {
          "name": "stdout",
          "output_type": "stream",
          "text": [
            "THE QUICK BROWN FOX JUMPED OVER THE LAZY DOG\n"
          ]
        }
      ],
      "source": [
        "plaintext = []\n",
        "\n",
        "key_index = 0\n",
        "\n",
        "for letter in ciphertext:\n",
        "    if letter in LETTERS:\n",
        "        position = LETTERS.find(letter)\n",
        "\n",
        "        # This is the line where the reversal happens\n",
        "        position = (position - LETTERS.find(key[key_index])) % len(LETTERS)\n",
        "\n",
        "        plaintext.append(LETTERS[position])\n",
        "\n",
        "        key_index = (key_index + 1) % len(key)\n",
        "    else:\n",
        "        plaintext.append(letter)\n",
        "\n",
        "plaintext = ''.join(plaintext)\n",
        "print(plaintext)"
      ]
    },
    {
      "cell_type": "markdown",
      "id": "7d92d909-2fb8-4c6e-a504-c73331c52716",
      "metadata": {},
      "source": [
        "## Conclusion\n",
        "\n",
        "Computer security is an ever-changing field with new algorithms and approaches appearing all the time.\n",
        "\n",
        "A good next step would be [this book](https://inventwithpython.com/cracking/), followed by learning more about [block ciphers](https://en.wikipedia.org/wiki/Block_cipher) and algorithms such as [RSA](https://en.wikipedia.org/wiki/RSA_(cryptosystem)) and [Diffie-Hellman](https://en.wikipedia.org/wiki/Diffie%E2%80%93Hellman_key_exchange), to start with."
      ]
    }
  ],
  "metadata": {
    "kernelspec": {
      "display_name": "Python 3",
      "language": "python",
      "name": "python3"
    },
    "language_info": {
      "codemirror_mode": {
        "name": "python",
        "version": 3
      },
      "file_extension": ".py",
      "mimetype": "text/x-python",
      "name": "python",
      "nbconvert_exporter": "python",
      "pygments_lexer": "ipython3",
      "version": "3.7.4"
    }
  },
  "nbformat": 4,
  "nbformat_minor": 5
}
